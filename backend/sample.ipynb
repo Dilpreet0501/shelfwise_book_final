{
 "cells": [
  {
   "cell_type": "markdown",
   "id": "8a77807f92f26ee",
   "metadata": {},
   "source": [
    "# This is a sample Jupyter Notebook\n",
    "\n",
    "Below is an example of a code cell. \n",
    "Put your cursor into the cell and press Shift+Enter to execute it and select the next one, or click 'Run Cell' button.\n",
    "\n",
    "Press Double Shift to search everywhere for classes, files, tool windows, actions, and settings.\n",
    "\n",
    "To learn more about Jupyter Notebooks in PyCharm, see [help](https://www.jetbrains.com/help/pycharm/ipython-notebook-support.html).\n",
    "For an overview of PyCharm, go to Help -> Learn IDE features or refer to [our documentation](https://www.jetbrains.com/help/pycharm/getting-started.html)."
   ]
  },
  {
   "cell_type": "code",
   "execution_count": 1,
   "id": "f41a124fc3865acf",
   "metadata": {
    "ExecuteTime": {
     "end_time": "2024-09-30T11:25:31.298685Z",
     "start_time": "2024-09-30T11:25:31.290111Z"
    }
   },
   "outputs": [
    {
     "name": "stdout",
     "output_type": "stream",
     "text": [
      "models/archive\\Books.csv\n",
      "models/archive\\classicRec.png\n",
      "models/archive\\DeepRec.png\n",
      "models/archive\\Ratings.csv\n",
      "models/archive\\recsys_taxonomy2.png\n",
      "models/archive\\Users.csv\n"
     ]
    }
   ],
   "source": [
    "import os\n",
    "for dirname, _, filenames in os.walk('models/archive'):\n",
    "    for filename in filenames:\n",
    "        print(os.path.join(dirname, filename))\n",
    "\n",
    "# Handle warning messages\n",
    "import warnings\n",
    "warnings.filterwarnings('ignore')"
   ]
  },
  {
   "cell_type": "code",
   "execution_count": 4,
   "id": "f5979f83e6a4cf61",
   "metadata": {
    "ExecuteTime": {
     "end_time": "2024-09-30T11:28:43.004840Z",
     "start_time": "2024-09-30T11:28:41.411490Z"
    }
   },
   "outputs": [],
   "source": [
    "import numpy as np\n",
    "import pandas as pd\n",
    "\n",
    "import matplotlib.pyplot as plt\n",
    "%matplotlib inline\n",
    "\n",
    "from scipy.sparse import csr_matrix\n",
    "from sklearn.metrics.pairwise import cosine_similarity\n",
    "from sklearn.neighbors import NearestNeighbors\n",
    "from sklearn.cluster import KMeans\n",
    "from sklearn.metrics import silhouette_score\n",
    "from sklearn.mixture import GaussianMixture"
   ]
  },
  {
   "cell_type": "code",
   "execution_count": 6,
   "id": "1c963c2bd6d0f4d0",
   "metadata": {
    "ExecuteTime": {
     "end_time": "2024-09-30T11:29:53.730622Z",
     "start_time": "2024-09-30T11:29:50.318131Z"
    }
   },
   "outputs": [
    {
     "name": "stdout",
     "output_type": "stream",
     "text": [
      "Books: (271360, 8)\n",
      "Users: (278858, 3)\n",
      "Ratinsg: (1149780, 3)\n"
     ]
    }
   ],
   "source": [
    "books = pd.read_csv(\"models/archive/Books.csv\")\n",
    "users = pd.read_csv(\"models/archive/Users.csv\")\n",
    "ratings = pd.read_csv(\"models/archive/Ratings.csv\")\n",
    "print('Books:',books.shape)\n",
    "print('Users:',users.shape)\n",
    "print('Ratinsg:',ratings.shape)"
   ]
  },
  {
   "cell_type": "code",
   "execution_count": 7,
   "id": "24620340647887da",
   "metadata": {
    "ExecuteTime": {
     "end_time": "2024-09-30T11:30:09.113564Z",
     "start_time": "2024-09-30T11:30:09.105313Z"
    }
   },
   "outputs": [
    {
     "name": "stdout",
     "output_type": "stream",
     "text": [
      "Books: (271360, 8)\n"
     ]
    }
   ],
   "source": [
    "print('Books:',books.shape)"
   ]
  },
  {
   "cell_type": "code",
   "execution_count": 8,
   "id": "938040b37ca8076b",
   "metadata": {
    "ExecuteTime": {
     "end_time": "2024-09-30T11:30:21.283862Z",
     "start_time": "2024-09-30T11:30:21.244351Z"
    }
   },
   "outputs": [
    {
     "data": {
      "text/html": [
       "<div>\n",
       "<style scoped>\n",
       "    .dataframe tbody tr th:only-of-type {\n",
       "        vertical-align: middle;\n",
       "    }\n",
       "\n",
       "    .dataframe tbody tr th {\n",
       "        vertical-align: top;\n",
       "    }\n",
       "\n",
       "    .dataframe thead th {\n",
       "        text-align: right;\n",
       "    }\n",
       "</style>\n",
       "<table border=\"1\" class=\"dataframe\">\n",
       "  <thead>\n",
       "    <tr style=\"text-align: right;\">\n",
       "      <th></th>\n",
       "      <th>ISBN</th>\n",
       "      <th>Book-Title</th>\n",
       "      <th>Book-Author</th>\n",
       "      <th>Year-Of-Publication</th>\n",
       "      <th>Publisher</th>\n",
       "      <th>Image-URL-S</th>\n",
       "      <th>Image-URL-M</th>\n",
       "      <th>Image-URL-L</th>\n",
       "    </tr>\n",
       "  </thead>\n",
       "  <tbody>\n",
       "    <tr>\n",
       "      <th>28069</th>\n",
       "      <td>006018518X</td>\n",
       "      <td>Cemetery Stories : Haunted Graveyards, Embalmi...</td>\n",
       "      <td>Katherine Ramsland</td>\n",
       "      <td>2001</td>\n",
       "      <td>Perennial Currents</td>\n",
       "      <td>http://images.amazon.com/images/P/006018518X.0...</td>\n",
       "      <td>http://images.amazon.com/images/P/006018518X.0...</td>\n",
       "      <td>http://images.amazon.com/images/P/006018518X.0...</td>\n",
       "    </tr>\n",
       "    <tr>\n",
       "      <th>164276</th>\n",
       "      <td>2742731059</td>\n",
       "      <td>Le pÃ?Â¨re NoÃ?Â«l est une ordure</td>\n",
       "      <td>Josiane Balasko</td>\n",
       "      <td>2000</td>\n",
       "      <td>Actes Sud</td>\n",
       "      <td>http://images.amazon.com/images/P/2742731059.0...</td>\n",
       "      <td>http://images.amazon.com/images/P/2742731059.0...</td>\n",
       "      <td>http://images.amazon.com/images/P/2742731059.0...</td>\n",
       "    </tr>\n",
       "    <tr>\n",
       "      <th>63915</th>\n",
       "      <td>0312275056</td>\n",
       "      <td>Creative Stars : Using Astrology to Tap Your Muse</td>\n",
       "      <td>Trish MacGregor</td>\n",
       "      <td>2002</td>\n",
       "      <td>St. Martin's Griffin</td>\n",
       "      <td>http://images.amazon.com/images/P/0312275056.0...</td>\n",
       "      <td>http://images.amazon.com/images/P/0312275056.0...</td>\n",
       "      <td>http://images.amazon.com/images/P/0312275056.0...</td>\n",
       "    </tr>\n",
       "    <tr>\n",
       "      <th>215636</th>\n",
       "      <td>188438904X</td>\n",
       "      <td>The Sewing Connection Series V</td>\n",
       "      <td>Shirley Adams</td>\n",
       "      <td>1992</td>\n",
       "      <td>Shirley Adams Pubns</td>\n",
       "      <td>http://images.amazon.com/images/P/188438904X.0...</td>\n",
       "      <td>http://images.amazon.com/images/P/188438904X.0...</td>\n",
       "      <td>http://images.amazon.com/images/P/188438904X.0...</td>\n",
       "    </tr>\n",
       "    <tr>\n",
       "      <th>194706</th>\n",
       "      <td>0898798574</td>\n",
       "      <td>Writing for Young Adults</td>\n",
       "      <td>Sherry Garland</td>\n",
       "      <td>1998</td>\n",
       "      <td>Writer's Digest Books</td>\n",
       "      <td>http://images.amazon.com/images/P/0898798574.0...</td>\n",
       "      <td>http://images.amazon.com/images/P/0898798574.0...</td>\n",
       "      <td>http://images.amazon.com/images/P/0898798574.0...</td>\n",
       "    </tr>\n",
       "  </tbody>\n",
       "</table>\n",
       "</div>"
      ],
      "text/plain": [
       "              ISBN                                         Book-Title  \\\n",
       "28069   006018518X  Cemetery Stories : Haunted Graveyards, Embalmi...   \n",
       "164276  2742731059                  Le pÃ?Â¨re NoÃ?Â«l est une ordure   \n",
       "63915   0312275056  Creative Stars : Using Astrology to Tap Your Muse   \n",
       "215636  188438904X                     The Sewing Connection Series V   \n",
       "194706  0898798574                           Writing for Young Adults   \n",
       "\n",
       "               Book-Author Year-Of-Publication              Publisher  \\\n",
       "28069   Katherine Ramsland                2001     Perennial Currents   \n",
       "164276     Josiane Balasko                2000              Actes Sud   \n",
       "63915      Trish MacGregor                2002   St. Martin's Griffin   \n",
       "215636       Shirley Adams                1992    Shirley Adams Pubns   \n",
       "194706      Sherry Garland                1998  Writer's Digest Books   \n",
       "\n",
       "                                              Image-URL-S  \\\n",
       "28069   http://images.amazon.com/images/P/006018518X.0...   \n",
       "164276  http://images.amazon.com/images/P/2742731059.0...   \n",
       "63915   http://images.amazon.com/images/P/0312275056.0...   \n",
       "215636  http://images.amazon.com/images/P/188438904X.0...   \n",
       "194706  http://images.amazon.com/images/P/0898798574.0...   \n",
       "\n",
       "                                              Image-URL-M  \\\n",
       "28069   http://images.amazon.com/images/P/006018518X.0...   \n",
       "164276  http://images.amazon.com/images/P/2742731059.0...   \n",
       "63915   http://images.amazon.com/images/P/0312275056.0...   \n",
       "215636  http://images.amazon.com/images/P/188438904X.0...   \n",
       "194706  http://images.amazon.com/images/P/0898798574.0...   \n",
       "\n",
       "                                              Image-URL-L  \n",
       "28069   http://images.amazon.com/images/P/006018518X.0...  \n",
       "164276  http://images.amazon.com/images/P/2742731059.0...  \n",
       "63915   http://images.amazon.com/images/P/0312275056.0...  \n",
       "215636  http://images.amazon.com/images/P/188438904X.0...  \n",
       "194706  http://images.amazon.com/images/P/0898798574.0...  "
      ]
     },
     "execution_count": 8,
     "metadata": {},
     "output_type": "execute_result"
    }
   ],
   "source": [
    "books.sample(5)"
   ]
  },
  {
   "cell_type": "code",
   "execution_count": 9,
   "id": "d21801bb88d28c89",
   "metadata": {
    "ExecuteTime": {
     "end_time": "2024-09-30T11:30:40.069731Z",
     "start_time": "2024-09-30T11:30:40.051720Z"
    }
   },
   "outputs": [
    {
     "data": {
      "text/plain": [
       "Index(['ISBN', 'Book-Title', 'Book-Author', 'Year-Of-Publication', 'Publisher',\n",
       "       'Image-URL-S', 'Image-URL-M', 'Image-URL-L'],\n",
       "      dtype='object')"
      ]
     },
     "execution_count": 9,
     "metadata": {},
     "output_type": "execute_result"
    }
   ],
   "source": [
    "books.columns"
   ]
  },
  {
   "cell_type": "code",
   "execution_count": 10,
   "id": "d3a562199379f532",
   "metadata": {
    "ExecuteTime": {
     "end_time": "2024-09-30T11:30:52.614409Z",
     "start_time": "2024-09-30T11:30:52.601049Z"
    }
   },
   "outputs": [],
   "source": [
    "books.rename(columns={'Book-Title':'Title','Book-Author':'Author','Year-Of-Publication':'Publication_Year'},inplace=True)"
   ]
  },
  {
   "cell_type": "code",
   "execution_count": 11,
   "id": "33acf74900340498",
   "metadata": {
    "ExecuteTime": {
     "end_time": "2024-09-30T11:31:08.913480Z",
     "start_time": "2024-09-30T11:31:08.610795Z"
    }
   },
   "outputs": [
    {
     "name": "stdout",
     "output_type": "stream",
     "text": [
      "<class 'pandas.core.frame.DataFrame'>\n",
      "RangeIndex: 271360 entries, 0 to 271359\n",
      "Data columns (total 8 columns):\n",
      " #   Column            Non-Null Count   Dtype \n",
      "---  ------            --------------   ----- \n",
      " 0   ISBN              271360 non-null  object\n",
      " 1   Title             271360 non-null  object\n",
      " 2   Author            271358 non-null  object\n",
      " 3   Publication_Year  271360 non-null  object\n",
      " 4   Publisher         271358 non-null  object\n",
      " 5   Image-URL-S       271360 non-null  object\n",
      " 6   Image-URL-M       271360 non-null  object\n",
      " 7   Image-URL-L       271357 non-null  object\n",
      "dtypes: object(8)\n",
      "memory usage: 16.6+ MB\n"
     ]
    }
   ],
   "source": [
    "books.info()"
   ]
  },
  {
   "cell_type": "code",
   "execution_count": 12,
   "id": "f5c5f57b9dfe17d4",
   "metadata": {
    "ExecuteTime": {
     "end_time": "2024-09-30T11:31:23.183993Z",
     "start_time": "2024-09-30T11:31:22.951222Z"
    }
   },
   "outputs": [
    {
     "data": {
      "text/plain": [
       "ISBN                0\n",
       "Title               0\n",
       "Author              2\n",
       "Publication_Year    0\n",
       "Publisher           2\n",
       "Image-URL-S         0\n",
       "Image-URL-M         0\n",
       "Image-URL-L         3\n",
       "dtype: int64"
      ]
     },
     "execution_count": 12,
     "metadata": {},
     "output_type": "execute_result"
    }
   ],
   "source": [
    "books.isnull().sum()"
   ]
  },
  {
   "cell_type": "code",
   "execution_count": 13,
   "id": "71f13a4cbe4fd11",
   "metadata": {
    "ExecuteTime": {
     "end_time": "2024-09-30T11:31:41.944138Z",
     "start_time": "2024-09-30T11:31:40.833773Z"
    }
   },
   "outputs": [
    {
     "data": {
      "text/plain": [
       "0"
      ]
     },
     "execution_count": 13,
     "metadata": {},
     "output_type": "execute_result"
    }
   ],
   "source": [
    "books.duplicated().sum()"
   ]
  },
  {
   "cell_type": "code",
   "execution_count": 14,
   "id": "e1465c7389fab417",
   "metadata": {
    "ExecuteTime": {
     "end_time": "2024-09-30T11:31:58.336546Z",
     "start_time": "2024-09-30T11:31:58.307344Z"
    }
   },
   "outputs": [
    {
     "data": {
      "text/plain": [
       "(271360, 8)"
      ]
     },
     "execution_count": 14,
     "metadata": {},
     "output_type": "execute_result"
    }
   ],
   "source": [
    "books.shape"
   ]
  },
  {
   "cell_type": "code",
   "execution_count": 15,
   "id": "96cbcb432c47d0d8",
   "metadata": {
    "ExecuteTime": {
     "end_time": "2024-09-30T11:32:11.248827Z",
     "start_time": "2024-09-30T11:32:11.232773Z"
    }
   },
   "outputs": [
    {
     "name": "stdout",
     "output_type": "stream",
     "text": [
      "Users: (278858, 3)\n"
     ]
    }
   ],
   "source": [
    "print('Users:',users.shape)"
   ]
  },
  {
   "cell_type": "code",
   "execution_count": 16,
   "id": "e2e326f783a1f2c7",
   "metadata": {
    "ExecuteTime": {
     "end_time": "2024-09-30T11:32:24.367020Z",
     "start_time": "2024-09-30T11:32:24.341404Z"
    }
   },
   "outputs": [],
   "source": [
    "users.rename(columns={'User-ID':'User_ID'},inplace=True)"
   ]
  },
  {
   "cell_type": "code",
   "execution_count": 17,
   "id": "dc37cf62e0d5ee62",
   "metadata": {
    "ExecuteTime": {
     "end_time": "2024-09-30T11:32:49.838068Z",
     "start_time": "2024-09-30T11:32:49.824615Z"
    }
   },
   "outputs": [],
   "source": [
    "ratings.rename(columns={'User-ID':'User_ID','Book-Rating':'Rating'},inplace=True)"
   ]
  },
  {
   "cell_type": "code",
   "execution_count": 18,
   "id": "bf98e270f004e759",
   "metadata": {
    "ExecuteTime": {
     "end_time": "2024-09-30T11:33:11.174662Z",
     "start_time": "2024-09-30T11:33:09.614914Z"
    }
   },
   "outputs": [
    {
     "data": {
      "text/plain": [
       "(1031136, 10)"
      ]
     },
     "execution_count": 18,
     "metadata": {},
     "output_type": "execute_result"
    }
   ],
   "source": [
    "ratings_with_books = ratings.merge(books,on='ISBN')\n",
    "ratings_with_books.shape"
   ]
  },
  {
   "cell_type": "code",
   "execution_count": 19,
   "id": "6943dbd6e17d35d0",
   "metadata": {
    "ExecuteTime": {
     "end_time": "2024-09-30T11:33:26.115895Z",
     "start_time": "2024-09-30T11:33:25.316844Z"
    }
   },
   "outputs": [
    {
     "data": {
      "text/html": [
       "<div>\n",
       "<style scoped>\n",
       "    .dataframe tbody tr th:only-of-type {\n",
       "        vertical-align: middle;\n",
       "    }\n",
       "\n",
       "    .dataframe tbody tr th {\n",
       "        vertical-align: top;\n",
       "    }\n",
       "\n",
       "    .dataframe thead th {\n",
       "        text-align: right;\n",
       "    }\n",
       "</style>\n",
       "<table border=\"1\" class=\"dataframe\">\n",
       "  <thead>\n",
       "    <tr style=\"text-align: right;\">\n",
       "      <th></th>\n",
       "      <th>Title</th>\n",
       "      <th>Number_of_Ratings</th>\n",
       "    </tr>\n",
       "  </thead>\n",
       "  <tbody>\n",
       "    <tr>\n",
       "      <th>0</th>\n",
       "      <td>A Light in the Storm: The Civil War Diary of ...</td>\n",
       "      <td>4</td>\n",
       "    </tr>\n",
       "    <tr>\n",
       "      <th>1</th>\n",
       "      <td>Always Have Popsicles</td>\n",
       "      <td>1</td>\n",
       "    </tr>\n",
       "    <tr>\n",
       "      <th>2</th>\n",
       "      <td>Apple Magic (The Collector's series)</td>\n",
       "      <td>1</td>\n",
       "    </tr>\n",
       "    <tr>\n",
       "      <th>3</th>\n",
       "      <td>Ask Lily (Young Women of Faith: Lily Series, ...</td>\n",
       "      <td>1</td>\n",
       "    </tr>\n",
       "    <tr>\n",
       "      <th>4</th>\n",
       "      <td>Beyond IBM: Leadership Marketing and Finance ...</td>\n",
       "      <td>1</td>\n",
       "    </tr>\n",
       "    <tr>\n",
       "      <th>...</th>\n",
       "      <td>...</td>\n",
       "      <td>...</td>\n",
       "    </tr>\n",
       "    <tr>\n",
       "      <th>241066</th>\n",
       "      <td>Ã?Â?lpiraten.</td>\n",
       "      <td>2</td>\n",
       "    </tr>\n",
       "    <tr>\n",
       "      <th>241067</th>\n",
       "      <td>Ã?Â?rger mit Produkt X. Roman.</td>\n",
       "      <td>4</td>\n",
       "    </tr>\n",
       "    <tr>\n",
       "      <th>241068</th>\n",
       "      <td>Ã?Â?sterlich leben.</td>\n",
       "      <td>1</td>\n",
       "    </tr>\n",
       "    <tr>\n",
       "      <th>241069</th>\n",
       "      <td>Ã?Â?stlich der Berge.</td>\n",
       "      <td>3</td>\n",
       "    </tr>\n",
       "    <tr>\n",
       "      <th>241070</th>\n",
       "      <td>Ã?Â?thique en toc</td>\n",
       "      <td>2</td>\n",
       "    </tr>\n",
       "  </tbody>\n",
       "</table>\n",
       "<p>241071 rows × 2 columns</p>\n",
       "</div>"
      ],
      "text/plain": [
       "                                                    Title  Number_of_Ratings\n",
       "0        A Light in the Storm: The Civil War Diary of ...                  4\n",
       "1                                   Always Have Popsicles                  1\n",
       "2                    Apple Magic (The Collector's series)                  1\n",
       "3        Ask Lily (Young Women of Faith: Lily Series, ...                  1\n",
       "4        Beyond IBM: Leadership Marketing and Finance ...                  1\n",
       "...                                                   ...                ...\n",
       "241066                                      Ã?Â?lpiraten.                  2\n",
       "241067                     Ã?Â?rger mit Produkt X. Roman.                  4\n",
       "241068                                Ã?Â?sterlich leben.                  1\n",
       "241069                              Ã?Â?stlich der Berge.                  3\n",
       "241070                                  Ã?Â?thique en toc                  2\n",
       "\n",
       "[241071 rows x 2 columns]"
      ]
     },
     "execution_count": 19,
     "metadata": {},
     "output_type": "execute_result"
    }
   ],
   "source": [
    "num = ratings_with_books.groupby('Title')['Rating'].count().reset_index().rename(columns={'Rating':'Number_of_Ratings'})\n",
    "num"
   ]
  },
  {
   "cell_type": "code",
   "execution_count": 20,
   "id": "4b1e3e5d86c33fc9",
   "metadata": {
    "ExecuteTime": {
     "end_time": "2024-09-30T11:34:48.676341Z",
     "start_time": "2024-09-30T11:34:47.213662Z"
    }
   },
   "outputs": [
    {
     "data": {
      "text/html": [
       "<div>\n",
       "<style scoped>\n",
       "    .dataframe tbody tr th:only-of-type {\n",
       "        vertical-align: middle;\n",
       "    }\n",
       "\n",
       "    .dataframe tbody tr th {\n",
       "        vertical-align: top;\n",
       "    }\n",
       "\n",
       "    .dataframe thead th {\n",
       "        text-align: right;\n",
       "    }\n",
       "</style>\n",
       "<table border=\"1\" class=\"dataframe\">\n",
       "  <thead>\n",
       "    <tr style=\"text-align: right;\">\n",
       "      <th></th>\n",
       "      <th>Title</th>\n",
       "      <th>Average_Rating</th>\n",
       "    </tr>\n",
       "  </thead>\n",
       "  <tbody>\n",
       "    <tr>\n",
       "      <th>0</th>\n",
       "      <td>A Light in the Storm: The Civil War Diary of ...</td>\n",
       "      <td>2.250000</td>\n",
       "    </tr>\n",
       "    <tr>\n",
       "      <th>1</th>\n",
       "      <td>Always Have Popsicles</td>\n",
       "      <td>0.000000</td>\n",
       "    </tr>\n",
       "    <tr>\n",
       "      <th>2</th>\n",
       "      <td>Apple Magic (The Collector's series)</td>\n",
       "      <td>0.000000</td>\n",
       "    </tr>\n",
       "    <tr>\n",
       "      <th>3</th>\n",
       "      <td>Ask Lily (Young Women of Faith: Lily Series, ...</td>\n",
       "      <td>8.000000</td>\n",
       "    </tr>\n",
       "    <tr>\n",
       "      <th>4</th>\n",
       "      <td>Beyond IBM: Leadership Marketing and Finance ...</td>\n",
       "      <td>0.000000</td>\n",
       "    </tr>\n",
       "    <tr>\n",
       "      <th>...</th>\n",
       "      <td>...</td>\n",
       "      <td>...</td>\n",
       "    </tr>\n",
       "    <tr>\n",
       "      <th>241066</th>\n",
       "      <td>Ã?Â?lpiraten.</td>\n",
       "      <td>0.000000</td>\n",
       "    </tr>\n",
       "    <tr>\n",
       "      <th>241067</th>\n",
       "      <td>Ã?Â?rger mit Produkt X. Roman.</td>\n",
       "      <td>5.250000</td>\n",
       "    </tr>\n",
       "    <tr>\n",
       "      <th>241068</th>\n",
       "      <td>Ã?Â?sterlich leben.</td>\n",
       "      <td>7.000000</td>\n",
       "    </tr>\n",
       "    <tr>\n",
       "      <th>241069</th>\n",
       "      <td>Ã?Â?stlich der Berge.</td>\n",
       "      <td>2.666667</td>\n",
       "    </tr>\n",
       "    <tr>\n",
       "      <th>241070</th>\n",
       "      <td>Ã?Â?thique en toc</td>\n",
       "      <td>4.000000</td>\n",
       "    </tr>\n",
       "  </tbody>\n",
       "</table>\n",
       "<p>241071 rows × 2 columns</p>\n",
       "</div>"
      ],
      "text/plain": [
       "                                                    Title  Average_Rating\n",
       "0        A Light in the Storm: The Civil War Diary of ...        2.250000\n",
       "1                                   Always Have Popsicles        0.000000\n",
       "2                    Apple Magic (The Collector's series)        0.000000\n",
       "3        Ask Lily (Young Women of Faith: Lily Series, ...        8.000000\n",
       "4        Beyond IBM: Leadership Marketing and Finance ...        0.000000\n",
       "...                                                   ...             ...\n",
       "241066                                      Ã?Â?lpiraten.        0.000000\n",
       "241067                     Ã?Â?rger mit Produkt X. Roman.        5.250000\n",
       "241068                                Ã?Â?sterlich leben.        7.000000\n",
       "241069                              Ã?Â?stlich der Berge.        2.666667\n",
       "241070                                  Ã?Â?thique en toc        4.000000\n",
       "\n",
       "[241071 rows x 2 columns]"
      ]
     },
     "execution_count": 20,
     "metadata": {},
     "output_type": "execute_result"
    }
   ],
   "source": [
    "avg = ratings_with_books.groupby('Title')['Rating'].mean().reset_index().rename(columns={'Rating':'Average_Rating'})\n",
    "avg"
   ]
  },
  {
   "cell_type": "code",
   "execution_count": 21,
   "id": "107920429b329900",
   "metadata": {
    "ExecuteTime": {
     "end_time": "2024-09-30T11:35:02.939583Z",
     "start_time": "2024-09-30T11:35:02.671584Z"
    }
   },
   "outputs": [
    {
     "data": {
      "text/html": [
       "<div>\n",
       "<style scoped>\n",
       "    .dataframe tbody tr th:only-of-type {\n",
       "        vertical-align: middle;\n",
       "    }\n",
       "\n",
       "    .dataframe tbody tr th {\n",
       "        vertical-align: top;\n",
       "    }\n",
       "\n",
       "    .dataframe thead th {\n",
       "        text-align: right;\n",
       "    }\n",
       "</style>\n",
       "<table border=\"1\" class=\"dataframe\">\n",
       "  <thead>\n",
       "    <tr style=\"text-align: right;\">\n",
       "      <th></th>\n",
       "      <th>Title</th>\n",
       "      <th>Number_of_Ratings</th>\n",
       "      <th>Average_Rating</th>\n",
       "    </tr>\n",
       "  </thead>\n",
       "  <tbody>\n",
       "    <tr>\n",
       "      <th>194726</th>\n",
       "      <td>The Last Sunday</td>\n",
       "      <td>1</td>\n",
       "      <td>0.0</td>\n",
       "    </tr>\n",
       "    <tr>\n",
       "      <th>212696</th>\n",
       "      <td>The Waltz of Hearts (Magna Library Series)</td>\n",
       "      <td>1</td>\n",
       "      <td>5.0</td>\n",
       "    </tr>\n",
       "    <tr>\n",
       "      <th>116758</th>\n",
       "      <td>Marriage Campaign (Presents , No 1960)</td>\n",
       "      <td>7</td>\n",
       "      <td>0.0</td>\n",
       "    </tr>\n",
       "    <tr>\n",
       "      <th>145329</th>\n",
       "      <td>Qpb Book of Irish Literature</td>\n",
       "      <td>1</td>\n",
       "      <td>0.0</td>\n",
       "    </tr>\n",
       "    <tr>\n",
       "      <th>97871</th>\n",
       "      <td>Just Enough Greek (Just Enough)</td>\n",
       "      <td>1</td>\n",
       "      <td>5.0</td>\n",
       "    </tr>\n",
       "  </tbody>\n",
       "</table>\n",
       "</div>"
      ],
      "text/plain": [
       "                                             Title  Number_of_Ratings  \\\n",
       "194726                             The Last Sunday                  1   \n",
       "212696  The Waltz of Hearts (Magna Library Series)                  1   \n",
       "116758      Marriage Campaign (Presents , No 1960)                  7   \n",
       "145329                Qpb Book of Irish Literature                  1   \n",
       "97871              Just Enough Greek (Just Enough)                  1   \n",
       "\n",
       "        Average_Rating  \n",
       "194726             0.0  \n",
       "212696             5.0  \n",
       "116758             0.0  \n",
       "145329             0.0  \n",
       "97871              5.0  "
      ]
     },
     "execution_count": 21,
     "metadata": {},
     "output_type": "execute_result"
    }
   ],
   "source": [
    "Popularity_df = num.merge(avg,on='Title')\n",
    "Popularity_df.sample(5)"
   ]
  },
  {
   "cell_type": "code",
   "execution_count": 22,
   "id": "e7db08ca740243e5",
   "metadata": {
    "ExecuteTime": {
     "end_time": "2024-09-30T11:35:17.947069Z",
     "start_time": "2024-09-30T11:35:17.904876Z"
    }
   },
   "outputs": [
    {
     "data": {
      "text/html": [
       "<div>\n",
       "<style scoped>\n",
       "    .dataframe tbody tr th:only-of-type {\n",
       "        vertical-align: middle;\n",
       "    }\n",
       "\n",
       "    .dataframe tbody tr th {\n",
       "        vertical-align: top;\n",
       "    }\n",
       "\n",
       "    .dataframe thead th {\n",
       "        text-align: right;\n",
       "    }\n",
       "</style>\n",
       "<table border=\"1\" class=\"dataframe\">\n",
       "  <thead>\n",
       "    <tr style=\"text-align: right;\">\n",
       "      <th></th>\n",
       "      <th>Title</th>\n",
       "      <th>Number_of_Ratings</th>\n",
       "      <th>Average_Rating</th>\n",
       "    </tr>\n",
       "  </thead>\n",
       "  <tbody>\n",
       "    <tr>\n",
       "      <th>80434</th>\n",
       "      <td>Harry Potter and the Prisoner of Azkaban (Book 3)</td>\n",
       "      <td>428</td>\n",
       "      <td>5.852804</td>\n",
       "    </tr>\n",
       "    <tr>\n",
       "      <th>80422</th>\n",
       "      <td>Harry Potter and the Goblet of Fire (Book 4)</td>\n",
       "      <td>387</td>\n",
       "      <td>5.824289</td>\n",
       "    </tr>\n",
       "    <tr>\n",
       "      <th>80441</th>\n",
       "      <td>Harry Potter and the Sorcerer's Stone (Book 1)</td>\n",
       "      <td>278</td>\n",
       "      <td>5.737410</td>\n",
       "    </tr>\n",
       "    <tr>\n",
       "      <th>80426</th>\n",
       "      <td>Harry Potter and the Order of the Phoenix (Boo...</td>\n",
       "      <td>347</td>\n",
       "      <td>5.501441</td>\n",
       "    </tr>\n",
       "    <tr>\n",
       "      <th>80414</th>\n",
       "      <td>Harry Potter and the Chamber of Secrets (Book 2)</td>\n",
       "      <td>556</td>\n",
       "      <td>5.183453</td>\n",
       "    </tr>\n",
       "  </tbody>\n",
       "</table>\n",
       "</div>"
      ],
      "text/plain": [
       "                                                   Title  Number_of_Ratings  \\\n",
       "80434  Harry Potter and the Prisoner of Azkaban (Book 3)                428   \n",
       "80422       Harry Potter and the Goblet of Fire (Book 4)                387   \n",
       "80441     Harry Potter and the Sorcerer's Stone (Book 1)                278   \n",
       "80426  Harry Potter and the Order of the Phoenix (Boo...                347   \n",
       "80414   Harry Potter and the Chamber of Secrets (Book 2)                556   \n",
       "\n",
       "       Average_Rating  \n",
       "80434        5.852804  \n",
       "80422        5.824289  \n",
       "80441        5.737410  \n",
       "80426        5.501441  \n",
       "80414        5.183453  "
      ]
     },
     "execution_count": 22,
     "metadata": {},
     "output_type": "execute_result"
    }
   ],
   "source": [
    "Popularity_df = Popularity_df[Popularity_df['Number_of_Ratings']>250].sort_values('Average_Rating',ascending=False).head(50)\n",
    "Popularity_df.head(5)"
   ]
  },
  {
   "cell_type": "code",
   "execution_count": 23,
   "id": "1eaa052d976abd90",
   "metadata": {
    "ExecuteTime": {
     "end_time": "2024-09-30T11:35:35.642252Z",
     "start_time": "2024-09-30T11:35:35.546401Z"
    }
   },
   "outputs": [],
   "source": [
    "books1 = books.drop_duplicates('Title')"
   ]
  },
  {
   "cell_type": "code",
   "execution_count": 24,
   "id": "41df3b65066a7d1c",
   "metadata": {
    "ExecuteTime": {
     "end_time": "2024-09-30T11:35:54.389617Z",
     "start_time": "2024-09-30T11:35:54.196226Z"
    }
   },
   "outputs": [],
   "source": [
    "df = Popularity_df.merge(books1,on='Title')"
   ]
  },
  {
   "cell_type": "code",
   "execution_count": 25,
   "id": "ecef419ddb969ec8",
   "metadata": {
    "ExecuteTime": {
     "end_time": "2024-09-30T11:36:18.381086Z",
     "start_time": "2024-09-30T11:36:18.363367Z"
    }
   },
   "outputs": [],
   "source": [
    "Popularity_Final = df[['ISBN','Title','Author','Publication_Year','Publisher','Image-URL-L','Number_of_Ratings', 'Average_Rating']]"
   ]
  },
  {
   "cell_type": "code",
   "execution_count": 26,
   "id": "e0518242de503b81",
   "metadata": {
    "ExecuteTime": {
     "end_time": "2024-09-30T11:36:36.525747Z",
     "start_time": "2024-09-30T11:36:36.519733Z"
    }
   },
   "outputs": [],
   "source": [
    "aGoodBook = 50\n",
    "aGoodUser = 200"
   ]
  },
  {
   "cell_type": "code",
   "execution_count": 27,
   "id": "f849c214ad49a525",
   "metadata": {
    "ExecuteTime": {
     "end_time": "2024-09-30T11:36:56.802086Z",
     "start_time": "2024-09-30T11:36:56.552712Z"
    }
   },
   "outputs": [
    {
     "data": {
      "text/plain": [
       "(474007, 10)"
      ]
     },
     "execution_count": 27,
     "metadata": {},
     "output_type": "execute_result"
    }
   ],
   "source": [
    "x = ratings_with_books.groupby('User_ID')['Rating'].count()>aGoodUser\n",
    "good_users_index = x[x].index\n",
    "filtered_ratings = ratings_with_books[ratings_with_books['User_ID'].isin(good_users_index)]\n",
    "filtered_ratings.shape"
   ]
  },
  {
   "cell_type": "code",
   "execution_count": 28,
   "id": "98d617583d9f4b74",
   "metadata": {
    "ExecuteTime": {
     "end_time": "2024-09-30T11:37:12.521821Z",
     "start_time": "2024-09-30T11:37:11.385307Z"
    }
   },
   "outputs": [
    {
     "data": {
      "text/plain": [
       "(57236, 10)"
      ]
     },
     "execution_count": 28,
     "metadata": {},
     "output_type": "execute_result"
    }
   ],
   "source": [
    "y = filtered_ratings.groupby('Title')['Rating'].count()>aGoodBook\n",
    "good_book_index = y[y].index\n",
    "filtered_ratings_books = filtered_ratings[filtered_ratings['Title'].isin(good_book_index)]\n",
    "filtered_ratings_books.shape"
   ]
  },
  {
   "cell_type": "code",
   "execution_count": 29,
   "id": "5db02e175581abff",
   "metadata": {
    "ExecuteTime": {
     "end_time": "2024-09-30T11:37:25.205399Z",
     "start_time": "2024-09-30T11:37:25.101478Z"
    }
   },
   "outputs": [],
   "source": [
    "pt = filtered_ratings_books.pivot_table(index='Title',columns='User_ID',values='Rating')"
   ]
  },
  {
   "cell_type": "code",
   "execution_count": 30,
   "id": "41c57562cc74992a",
   "metadata": {
    "ExecuteTime": {
     "end_time": "2024-09-30T11:37:42.975512Z",
     "start_time": "2024-09-30T11:37:42.945083Z"
    }
   },
   "outputs": [],
   "source": [
    "pt.fillna(0,inplace=True)"
   ]
  },
  {
   "cell_type": "code",
   "execution_count": 31,
   "id": "13704ce1a186682f",
   "metadata": {
    "ExecuteTime": {
     "end_time": "2024-09-30T11:38:02.432181Z",
     "start_time": "2024-09-30T11:38:02.411371Z"
    }
   },
   "outputs": [],
   "source": [
    "final_dataset = pt.copy()"
   ]
  },
  {
   "cell_type": "code",
   "execution_count": 32,
   "id": "6a76cadea7faa30a",
   "metadata": {
    "ExecuteTime": {
     "end_time": "2024-09-30T11:38:15.611660Z",
     "start_time": "2024-09-30T11:38:15.577430Z"
    }
   },
   "outputs": [],
   "source": [
    "final_dataset_sparse = csr_matrix(final_dataset)"
   ]
  },
  {
   "cell_type": "code",
   "execution_count": 33,
   "id": "a8ea43b637fc5fac",
   "metadata": {
    "ExecuteTime": {
     "end_time": "2024-09-30T11:38:44.035093Z",
     "start_time": "2024-09-30T11:38:44.017417Z"
    }
   },
   "outputs": [
    {
     "data": {
      "text/html": [
       "<style>#sk-container-id-1 {\n",
       "  /* Definition of color scheme common for light and dark mode */\n",
       "  --sklearn-color-text: black;\n",
       "  --sklearn-color-line: gray;\n",
       "  /* Definition of color scheme for unfitted estimators */\n",
       "  --sklearn-color-unfitted-level-0: #fff5e6;\n",
       "  --sklearn-color-unfitted-level-1: #f6e4d2;\n",
       "  --sklearn-color-unfitted-level-2: #ffe0b3;\n",
       "  --sklearn-color-unfitted-level-3: chocolate;\n",
       "  /* Definition of color scheme for fitted estimators */\n",
       "  --sklearn-color-fitted-level-0: #f0f8ff;\n",
       "  --sklearn-color-fitted-level-1: #d4ebff;\n",
       "  --sklearn-color-fitted-level-2: #b3dbfd;\n",
       "  --sklearn-color-fitted-level-3: cornflowerblue;\n",
       "\n",
       "  /* Specific color for light theme */\n",
       "  --sklearn-color-text-on-default-background: var(--sg-text-color, var(--theme-code-foreground, var(--jp-content-font-color1, black)));\n",
       "  --sklearn-color-background: var(--sg-background-color, var(--theme-background, var(--jp-layout-color0, white)));\n",
       "  --sklearn-color-border-box: var(--sg-text-color, var(--theme-code-foreground, var(--jp-content-font-color1, black)));\n",
       "  --sklearn-color-icon: #696969;\n",
       "\n",
       "  @media (prefers-color-scheme: dark) {\n",
       "    /* Redefinition of color scheme for dark theme */\n",
       "    --sklearn-color-text-on-default-background: var(--sg-text-color, var(--theme-code-foreground, var(--jp-content-font-color1, white)));\n",
       "    --sklearn-color-background: var(--sg-background-color, var(--theme-background, var(--jp-layout-color0, #111)));\n",
       "    --sklearn-color-border-box: var(--sg-text-color, var(--theme-code-foreground, var(--jp-content-font-color1, white)));\n",
       "    --sklearn-color-icon: #878787;\n",
       "  }\n",
       "}\n",
       "\n",
       "#sk-container-id-1 {\n",
       "  color: var(--sklearn-color-text);\n",
       "}\n",
       "\n",
       "#sk-container-id-1 pre {\n",
       "  padding: 0;\n",
       "}\n",
       "\n",
       "#sk-container-id-1 input.sk-hidden--visually {\n",
       "  border: 0;\n",
       "  clip: rect(1px 1px 1px 1px);\n",
       "  clip: rect(1px, 1px, 1px, 1px);\n",
       "  height: 1px;\n",
       "  margin: -1px;\n",
       "  overflow: hidden;\n",
       "  padding: 0;\n",
       "  position: absolute;\n",
       "  width: 1px;\n",
       "}\n",
       "\n",
       "#sk-container-id-1 div.sk-dashed-wrapped {\n",
       "  border: 1px dashed var(--sklearn-color-line);\n",
       "  margin: 0 0.4em 0.5em 0.4em;\n",
       "  box-sizing: border-box;\n",
       "  padding-bottom: 0.4em;\n",
       "  background-color: var(--sklearn-color-background);\n",
       "}\n",
       "\n",
       "#sk-container-id-1 div.sk-container {\n",
       "  /* jupyter's `normalize.less` sets `[hidden] { display: none; }`\n",
       "     but bootstrap.min.css set `[hidden] { display: none !important; }`\n",
       "     so we also need the `!important` here to be able to override the\n",
       "     default hidden behavior on the sphinx rendered scikit-learn.org.\n",
       "     See: https://github.com/scikit-learn/scikit-learn/issues/21755 */\n",
       "  display: inline-block !important;\n",
       "  position: relative;\n",
       "}\n",
       "\n",
       "#sk-container-id-1 div.sk-text-repr-fallback {\n",
       "  display: none;\n",
       "}\n",
       "\n",
       "div.sk-parallel-item,\n",
       "div.sk-serial,\n",
       "div.sk-item {\n",
       "  /* draw centered vertical line to link estimators */\n",
       "  background-image: linear-gradient(var(--sklearn-color-text-on-default-background), var(--sklearn-color-text-on-default-background));\n",
       "  background-size: 2px 100%;\n",
       "  background-repeat: no-repeat;\n",
       "  background-position: center center;\n",
       "}\n",
       "\n",
       "/* Parallel-specific style estimator block */\n",
       "\n",
       "#sk-container-id-1 div.sk-parallel-item::after {\n",
       "  content: \"\";\n",
       "  width: 100%;\n",
       "  border-bottom: 2px solid var(--sklearn-color-text-on-default-background);\n",
       "  flex-grow: 1;\n",
       "}\n",
       "\n",
       "#sk-container-id-1 div.sk-parallel {\n",
       "  display: flex;\n",
       "  align-items: stretch;\n",
       "  justify-content: center;\n",
       "  background-color: var(--sklearn-color-background);\n",
       "  position: relative;\n",
       "}\n",
       "\n",
       "#sk-container-id-1 div.sk-parallel-item {\n",
       "  display: flex;\n",
       "  flex-direction: column;\n",
       "}\n",
       "\n",
       "#sk-container-id-1 div.sk-parallel-item:first-child::after {\n",
       "  align-self: flex-end;\n",
       "  width: 50%;\n",
       "}\n",
       "\n",
       "#sk-container-id-1 div.sk-parallel-item:last-child::after {\n",
       "  align-self: flex-start;\n",
       "  width: 50%;\n",
       "}\n",
       "\n",
       "#sk-container-id-1 div.sk-parallel-item:only-child::after {\n",
       "  width: 0;\n",
       "}\n",
       "\n",
       "/* Serial-specific style estimator block */\n",
       "\n",
       "#sk-container-id-1 div.sk-serial {\n",
       "  display: flex;\n",
       "  flex-direction: column;\n",
       "  align-items: center;\n",
       "  background-color: var(--sklearn-color-background);\n",
       "  padding-right: 1em;\n",
       "  padding-left: 1em;\n",
       "}\n",
       "\n",
       "\n",
       "/* Toggleable style: style used for estimator/Pipeline/ColumnTransformer box that is\n",
       "clickable and can be expanded/collapsed.\n",
       "- Pipeline and ColumnTransformer use this feature and define the default style\n",
       "- Estimators will overwrite some part of the style using the `sk-estimator` class\n",
       "*/\n",
       "\n",
       "/* Pipeline and ColumnTransformer style (default) */\n",
       "\n",
       "#sk-container-id-1 div.sk-toggleable {\n",
       "  /* Default theme specific background. It is overwritten whether we have a\n",
       "  specific estimator or a Pipeline/ColumnTransformer */\n",
       "  background-color: var(--sklearn-color-background);\n",
       "}\n",
       "\n",
       "/* Toggleable label */\n",
       "#sk-container-id-1 label.sk-toggleable__label {\n",
       "  cursor: pointer;\n",
       "  display: block;\n",
       "  width: 100%;\n",
       "  margin-bottom: 0;\n",
       "  padding: 0.5em;\n",
       "  box-sizing: border-box;\n",
       "  text-align: center;\n",
       "}\n",
       "\n",
       "#sk-container-id-1 label.sk-toggleable__label-arrow:before {\n",
       "  /* Arrow on the left of the label */\n",
       "  content: \"▸\";\n",
       "  float: left;\n",
       "  margin-right: 0.25em;\n",
       "  color: var(--sklearn-color-icon);\n",
       "}\n",
       "\n",
       "#sk-container-id-1 label.sk-toggleable__label-arrow:hover:before {\n",
       "  color: var(--sklearn-color-text);\n",
       "}\n",
       "\n",
       "/* Toggleable content - dropdown */\n",
       "\n",
       "#sk-container-id-1 div.sk-toggleable__content {\n",
       "  max-height: 0;\n",
       "  max-width: 0;\n",
       "  overflow: hidden;\n",
       "  text-align: left;\n",
       "  /* unfitted */\n",
       "  background-color: var(--sklearn-color-unfitted-level-0);\n",
       "}\n",
       "\n",
       "#sk-container-id-1 div.sk-toggleable__content.fitted {\n",
       "  /* fitted */\n",
       "  background-color: var(--sklearn-color-fitted-level-0);\n",
       "}\n",
       "\n",
       "#sk-container-id-1 div.sk-toggleable__content pre {\n",
       "  margin: 0.2em;\n",
       "  border-radius: 0.25em;\n",
       "  color: var(--sklearn-color-text);\n",
       "  /* unfitted */\n",
       "  background-color: var(--sklearn-color-unfitted-level-0);\n",
       "}\n",
       "\n",
       "#sk-container-id-1 div.sk-toggleable__content.fitted pre {\n",
       "  /* unfitted */\n",
       "  background-color: var(--sklearn-color-fitted-level-0);\n",
       "}\n",
       "\n",
       "#sk-container-id-1 input.sk-toggleable__control:checked~div.sk-toggleable__content {\n",
       "  /* Expand drop-down */\n",
       "  max-height: 200px;\n",
       "  max-width: 100%;\n",
       "  overflow: auto;\n",
       "}\n",
       "\n",
       "#sk-container-id-1 input.sk-toggleable__control:checked~label.sk-toggleable__label-arrow:before {\n",
       "  content: \"▾\";\n",
       "}\n",
       "\n",
       "/* Pipeline/ColumnTransformer-specific style */\n",
       "\n",
       "#sk-container-id-1 div.sk-label input.sk-toggleable__control:checked~label.sk-toggleable__label {\n",
       "  color: var(--sklearn-color-text);\n",
       "  background-color: var(--sklearn-color-unfitted-level-2);\n",
       "}\n",
       "\n",
       "#sk-container-id-1 div.sk-label.fitted input.sk-toggleable__control:checked~label.sk-toggleable__label {\n",
       "  background-color: var(--sklearn-color-fitted-level-2);\n",
       "}\n",
       "\n",
       "/* Estimator-specific style */\n",
       "\n",
       "/* Colorize estimator box */\n",
       "#sk-container-id-1 div.sk-estimator input.sk-toggleable__control:checked~label.sk-toggleable__label {\n",
       "  /* unfitted */\n",
       "  background-color: var(--sklearn-color-unfitted-level-2);\n",
       "}\n",
       "\n",
       "#sk-container-id-1 div.sk-estimator.fitted input.sk-toggleable__control:checked~label.sk-toggleable__label {\n",
       "  /* fitted */\n",
       "  background-color: var(--sklearn-color-fitted-level-2);\n",
       "}\n",
       "\n",
       "#sk-container-id-1 div.sk-label label.sk-toggleable__label,\n",
       "#sk-container-id-1 div.sk-label label {\n",
       "  /* The background is the default theme color */\n",
       "  color: var(--sklearn-color-text-on-default-background);\n",
       "}\n",
       "\n",
       "/* On hover, darken the color of the background */\n",
       "#sk-container-id-1 div.sk-label:hover label.sk-toggleable__label {\n",
       "  color: var(--sklearn-color-text);\n",
       "  background-color: var(--sklearn-color-unfitted-level-2);\n",
       "}\n",
       "\n",
       "/* Label box, darken color on hover, fitted */\n",
       "#sk-container-id-1 div.sk-label.fitted:hover label.sk-toggleable__label.fitted {\n",
       "  color: var(--sklearn-color-text);\n",
       "  background-color: var(--sklearn-color-fitted-level-2);\n",
       "}\n",
       "\n",
       "/* Estimator label */\n",
       "\n",
       "#sk-container-id-1 div.sk-label label {\n",
       "  font-family: monospace;\n",
       "  font-weight: bold;\n",
       "  display: inline-block;\n",
       "  line-height: 1.2em;\n",
       "}\n",
       "\n",
       "#sk-container-id-1 div.sk-label-container {\n",
       "  text-align: center;\n",
       "}\n",
       "\n",
       "/* Estimator-specific */\n",
       "#sk-container-id-1 div.sk-estimator {\n",
       "  font-family: monospace;\n",
       "  border: 1px dotted var(--sklearn-color-border-box);\n",
       "  border-radius: 0.25em;\n",
       "  box-sizing: border-box;\n",
       "  margin-bottom: 0.5em;\n",
       "  /* unfitted */\n",
       "  background-color: var(--sklearn-color-unfitted-level-0);\n",
       "}\n",
       "\n",
       "#sk-container-id-1 div.sk-estimator.fitted {\n",
       "  /* fitted */\n",
       "  background-color: var(--sklearn-color-fitted-level-0);\n",
       "}\n",
       "\n",
       "/* on hover */\n",
       "#sk-container-id-1 div.sk-estimator:hover {\n",
       "  /* unfitted */\n",
       "  background-color: var(--sklearn-color-unfitted-level-2);\n",
       "}\n",
       "\n",
       "#sk-container-id-1 div.sk-estimator.fitted:hover {\n",
       "  /* fitted */\n",
       "  background-color: var(--sklearn-color-fitted-level-2);\n",
       "}\n",
       "\n",
       "/* Specification for estimator info (e.g. \"i\" and \"?\") */\n",
       "\n",
       "/* Common style for \"i\" and \"?\" */\n",
       "\n",
       ".sk-estimator-doc-link,\n",
       "a:link.sk-estimator-doc-link,\n",
       "a:visited.sk-estimator-doc-link {\n",
       "  float: right;\n",
       "  font-size: smaller;\n",
       "  line-height: 1em;\n",
       "  font-family: monospace;\n",
       "  background-color: var(--sklearn-color-background);\n",
       "  border-radius: 1em;\n",
       "  height: 1em;\n",
       "  width: 1em;\n",
       "  text-decoration: none !important;\n",
       "  margin-left: 1ex;\n",
       "  /* unfitted */\n",
       "  border: var(--sklearn-color-unfitted-level-1) 1pt solid;\n",
       "  color: var(--sklearn-color-unfitted-level-1);\n",
       "}\n",
       "\n",
       ".sk-estimator-doc-link.fitted,\n",
       "a:link.sk-estimator-doc-link.fitted,\n",
       "a:visited.sk-estimator-doc-link.fitted {\n",
       "  /* fitted */\n",
       "  border: var(--sklearn-color-fitted-level-1) 1pt solid;\n",
       "  color: var(--sklearn-color-fitted-level-1);\n",
       "}\n",
       "\n",
       "/* On hover */\n",
       "div.sk-estimator:hover .sk-estimator-doc-link:hover,\n",
       ".sk-estimator-doc-link:hover,\n",
       "div.sk-label-container:hover .sk-estimator-doc-link:hover,\n",
       ".sk-estimator-doc-link:hover {\n",
       "  /* unfitted */\n",
       "  background-color: var(--sklearn-color-unfitted-level-3);\n",
       "  color: var(--sklearn-color-background);\n",
       "  text-decoration: none;\n",
       "}\n",
       "\n",
       "div.sk-estimator.fitted:hover .sk-estimator-doc-link.fitted:hover,\n",
       ".sk-estimator-doc-link.fitted:hover,\n",
       "div.sk-label-container:hover .sk-estimator-doc-link.fitted:hover,\n",
       ".sk-estimator-doc-link.fitted:hover {\n",
       "  /* fitted */\n",
       "  background-color: var(--sklearn-color-fitted-level-3);\n",
       "  color: var(--sklearn-color-background);\n",
       "  text-decoration: none;\n",
       "}\n",
       "\n",
       "/* Span, style for the box shown on hovering the info icon */\n",
       ".sk-estimator-doc-link span {\n",
       "  display: none;\n",
       "  z-index: 9999;\n",
       "  position: relative;\n",
       "  font-weight: normal;\n",
       "  right: .2ex;\n",
       "  padding: .5ex;\n",
       "  margin: .5ex;\n",
       "  width: min-content;\n",
       "  min-width: 20ex;\n",
       "  max-width: 50ex;\n",
       "  color: var(--sklearn-color-text);\n",
       "  box-shadow: 2pt 2pt 4pt #999;\n",
       "  /* unfitted */\n",
       "  background: var(--sklearn-color-unfitted-level-0);\n",
       "  border: .5pt solid var(--sklearn-color-unfitted-level-3);\n",
       "}\n",
       "\n",
       ".sk-estimator-doc-link.fitted span {\n",
       "  /* fitted */\n",
       "  background: var(--sklearn-color-fitted-level-0);\n",
       "  border: var(--sklearn-color-fitted-level-3);\n",
       "}\n",
       "\n",
       ".sk-estimator-doc-link:hover span {\n",
       "  display: block;\n",
       "}\n",
       "\n",
       "/* \"?\"-specific style due to the `<a>` HTML tag */\n",
       "\n",
       "#sk-container-id-1 a.estimator_doc_link {\n",
       "  float: right;\n",
       "  font-size: 1rem;\n",
       "  line-height: 1em;\n",
       "  font-family: monospace;\n",
       "  background-color: var(--sklearn-color-background);\n",
       "  border-radius: 1rem;\n",
       "  height: 1rem;\n",
       "  width: 1rem;\n",
       "  text-decoration: none;\n",
       "  /* unfitted */\n",
       "  color: var(--sklearn-color-unfitted-level-1);\n",
       "  border: var(--sklearn-color-unfitted-level-1) 1pt solid;\n",
       "}\n",
       "\n",
       "#sk-container-id-1 a.estimator_doc_link.fitted {\n",
       "  /* fitted */\n",
       "  border: var(--sklearn-color-fitted-level-1) 1pt solid;\n",
       "  color: var(--sklearn-color-fitted-level-1);\n",
       "}\n",
       "\n",
       "/* On hover */\n",
       "#sk-container-id-1 a.estimator_doc_link:hover {\n",
       "  /* unfitted */\n",
       "  background-color: var(--sklearn-color-unfitted-level-3);\n",
       "  color: var(--sklearn-color-background);\n",
       "  text-decoration: none;\n",
       "}\n",
       "\n",
       "#sk-container-id-1 a.estimator_doc_link.fitted:hover {\n",
       "  /* fitted */\n",
       "  background-color: var(--sklearn-color-fitted-level-3);\n",
       "}\n",
       "</style><div id=\"sk-container-id-1\" class=\"sk-top-container\"><div class=\"sk-text-repr-fallback\"><pre>NearestNeighbors(algorithm=&#x27;brute&#x27;, metric=&#x27;cosine&#x27;)</pre><b>In a Jupyter environment, please rerun this cell to show the HTML representation or trust the notebook. <br />On GitHub, the HTML representation is unable to render, please try loading this page with nbviewer.org.</b></div><div class=\"sk-container\" hidden><div class=\"sk-item\"><div class=\"sk-estimator fitted sk-toggleable\"><input class=\"sk-toggleable__control sk-hidden--visually\" id=\"sk-estimator-id-1\" type=\"checkbox\" checked><label for=\"sk-estimator-id-1\" class=\"sk-toggleable__label fitted sk-toggleable__label-arrow fitted\">&nbsp;&nbsp;NearestNeighbors<a class=\"sk-estimator-doc-link fitted\" rel=\"noreferrer\" target=\"_blank\" href=\"https://scikit-learn.org/1.5/modules/generated/sklearn.neighbors.NearestNeighbors.html\">?<span>Documentation for NearestNeighbors</span></a><span class=\"sk-estimator-doc-link fitted\">i<span>Fitted</span></span></label><div class=\"sk-toggleable__content fitted\"><pre>NearestNeighbors(algorithm=&#x27;brute&#x27;, metric=&#x27;cosine&#x27;)</pre></div> </div></div></div></div>"
      ],
      "text/plain": [
       "NearestNeighbors(algorithm='brute', metric='cosine')"
      ]
     },
     "execution_count": 33,
     "metadata": {},
     "output_type": "execute_result"
    }
   ],
   "source": [
    "nn_model = NearestNeighbors(metric='cosine',algorithm='brute')\n",
    "nn_model.fit(final_dataset_sparse)"
   ]
  },
  {
   "cell_type": "code",
   "execution_count": 34,
   "id": "c9c976df68fd5e3a",
   "metadata": {
    "ExecuteTime": {
     "end_time": "2024-09-30T11:39:01.893397Z",
     "start_time": "2024-09-30T11:39:01.099427Z"
    }
   },
   "outputs": [
    {
     "data": {
      "text/plain": [
       "0.0402502781169519"
      ]
     },
     "execution_count": 34,
     "metadata": {},
     "output_type": "execute_result"
    }
   ],
   "source": [
    "kmeans_model = KMeans(n_clusters=3,init=\"k-means++\",random_state=12)\n",
    "km = kmeans_model.fit(final_dataset)\n",
    "km_pred = km.predict(final_dataset)\n",
    "\n",
    "silhouette_score(final_dataset,km_pred)"
   ]
  },
  {
   "cell_type": "code",
   "execution_count": 35,
   "id": "b172f7d4e8c6b204",
   "metadata": {
    "ExecuteTime": {
     "end_time": "2024-09-30T11:39:24.951306Z",
     "start_time": "2024-09-30T11:39:21.875734Z"
    }
   },
   "outputs": [
    {
     "data": {
      "text/plain": [
       "0.0402502781169519"
      ]
     },
     "execution_count": 35,
     "metadata": {},
     "output_type": "execute_result"
    }
   ],
   "source": [
    "gm_model = GaussianMixture(n_components=3,random_state=12)\n",
    "gm = gm_model.fit(final_dataset)\n",
    "gm_pred = km.predict(final_dataset)\n",
    "\n",
    "silhouette_score(final_dataset,gm_pred)"
   ]
  },
  {
   "cell_type": "code",
   "execution_count": 36,
   "id": "2a424d04c20995ea",
   "metadata": {
    "ExecuteTime": {
     "end_time": "2024-09-30T11:39:39.071649Z",
     "start_time": "2024-09-30T11:39:39.051071Z"
    }
   },
   "outputs": [],
   "source": [
    "def recommend_nn(book_name):\n",
    "    dist , sugg = nn_model.kneighbors(final_dataset[final_dataset.index == book_name],n_neighbors=6)\n",
    "    print('Book Recommendation for',book_name,'are:')\n",
    "    for i in range(len(sugg[0])):\n",
    "        if i!=0:\n",
    "            print(i,final_dataset.index[sugg[0][i]])"
   ]
  },
  {
   "cell_type": "code",
   "execution_count": 37,
   "id": "c1dbc44129f3312e",
   "metadata": {
    "ExecuteTime": {
     "end_time": "2024-09-30T11:39:52.953428Z",
     "start_time": "2024-09-30T11:39:52.924008Z"
    }
   },
   "outputs": [
    {
     "name": "stdout",
     "output_type": "stream",
     "text": [
      "Book Recommendation for Message in a Bottle are:\n",
      "1 Nights in Rodanthe\n",
      "2 The Mulberry Tree\n",
      "3 A Walk to Remember\n",
      "4 River's End\n",
      "5 Nightmares &amp; Dreamscapes\n"
     ]
    }
   ],
   "source": [
    "recommend_nn('Message in a Bottle')"
   ]
  },
  {
   "cell_type": "code",
   "execution_count": 38,
   "id": "921d1e5bd035cd27",
   "metadata": {
    "ExecuteTime": {
     "end_time": "2024-09-30T11:42:42.498049Z",
     "start_time": "2024-09-30T11:42:42.471625Z"
    }
   },
   "outputs": [],
   "source": [
    "import joblib\n",
    "\n",
    "# Save the NearestNeighbors model\n",
    "joblib.dump(nn_model, 'nn_model.pkl')\n",
    "\n",
    "# Save the pivot table (final dataset)\n",
    "final_dataset.to_pickle('final_dataset.pkl')\n"
   ]
  },
  {
   "cell_type": "code",
   "execution_count": null,
   "id": "bd56bb097f051acb",
   "metadata": {},
   "outputs": [],
   "source": []
  }
 ],
 "metadata": {
  "kernelspec": {
   "display_name": "Python 3",
   "language": "python",
   "name": "python3"
  },
  "language_info": {
   "codemirror_mode": {
    "name": "ipython",
    "version": 2
   },
   "file_extension": ".py",
   "mimetype": "text/x-python",
   "name": "python",
   "nbconvert_exporter": "python",
   "pygments_lexer": "ipython2",
   "version": "2.7.6"
  }
 },
 "nbformat": 4,
 "nbformat_minor": 5
}
